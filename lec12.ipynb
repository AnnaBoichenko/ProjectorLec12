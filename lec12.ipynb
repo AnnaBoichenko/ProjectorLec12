{
 "cells": [
  {
   "cell_type": "markdown",
   "metadata": {},
   "source": [
    "1. Write a decorator that ensures a function is only called by users with a specific role. Each function should have a user_type with a string type in kwargs. Example:"
   ]
  },
  {
   "cell_type": "code",
   "execution_count": null,
   "metadata": {},
   "outputs": [],
   "source": [
    "def is_admin(user_type: str) -> None:\n",
    "    def wrapper(*args, user_type: str):\n",
    "        if user_type != 'admin':\n",
    "            raise ValueError(\"Permission denied\")\n",
    "        else:\n",
    "            print(\"Permission confirmed\")\n",
    "    return wrapper\n",
    "\n",
    "\n",
    "@is_admin\n",
    "def show_customer_receipt(user_type: str):\n",
    "    print(\"There's customer's receipt\")\n",
    "\n",
    "\n",
    "show_customer_receipt(user_type='admin')\n",
    "show_customer_receipt(user_type = \"user\")\n"
   ]
  },
  {
   "cell_type": "markdown",
   "metadata": {},
   "source": [
    "2.  Write a decorator that wraps a function in a try-except block and prints an error if an error has happened. Example: \n",
    "\n",
    "@catch_errors\n",
    "def some_function_with_risky_operation(data):\n",
    "    print(data['key'])\n",
    "\n",
    "\n",
    "some_function_with_risky_operation({'foo': 'bar'})\n",
    "> Found 1 error during execution of your function: KeyError no such key as foo\n",
    "\n",
    "some_function_with_risky_operation({'key': 'bar'})\n",
    "> bar\n"
   ]
  },
  {
   "cell_type": "code",
   "execution_count": 27,
   "metadata": {},
   "outputs": [
    {
     "name": "stdout",
     "output_type": "stream",
     "text": [
      "Found 1 error during execution of your function: KeyError - 'key'\n",
      "bar\n"
     ]
    }
   ],
   "source": [
    "def catch_errors(func: callable):\n",
    "    def wrapper(data):\n",
    "        try:\n",
    "            func(data)\n",
    "        except Exception as e:\n",
    "            print(f\"Found 1 error during execution of your function: {e.__class__.__name__} - {e}\")\n",
    "    return wrapper\n",
    "\n",
    "\n",
    "@catch_errors\n",
    "def some_function_with_risky_operation(data):\n",
    "    print(data['key'])\n",
    "\n",
    "\n",
    "some_function_with_risky_operation({'foo': 'bar'})\n",
    "# > Found 1 error during execution of your function: KeyError no such key as foo\n",
    "\n",
    "some_function_with_risky_operation({'key': 'bar'})\n",
    "# > bar\n"
   ]
  },
  {
   "cell_type": "markdown",
   "metadata": {},
   "source": [
    " 3.  Optional: Create a decorator that will check types. It should take a function with arguments and validate inputs with annotations. It should work for all possible functions. Don’t forget to check the return type as well. \n",
    "\n",
    "Example:\n",
    "@check_types\n",
    "def add(a: int, b: int) -> int:\n",
    "    return a + b\n",
    "\n",
    "add(1, 2)\n",
    "> 3\n",
    "\n",
    "add(\"1\", \"2\")\n",
    "> TypeError: Argument a must be int, not str"
   ]
  },
  {
   "cell_type": "code",
   "execution_count": 117,
   "metadata": {},
   "outputs": [
    {
     "data": {
      "text/plain": [
       "11"
      ]
     },
     "execution_count": 117,
     "metadata": {},
     "output_type": "execute_result"
    }
   ],
   "source": [
    "import typing\n",
    "\n",
    "\n",
    "def check_types(func: typing.Callable):\n",
    "    def wrapper(*args: typing.Any) -> None:\n",
    "        func_real_types = func.__annotations__\n",
    "        func_real_types_list = list(func_real_types.values())\n",
    "        for i, arg in enumerate(args):\n",
    "            if type(arg) != func_real_types_list[i]:\n",
    "                err_text = f\"Argument must be {type(arg).__name__}, not {func_real_types_list[i].__name__}.\"\n",
    "                raise TypeError(err_text)\n",
    "        if func_real_types_list[-1] != type(func(*args)):\n",
    "            raise TypeError(f\"Function must return {func_real_types_list[-1].__name__} type\")\n",
    "        return func(*args)\n",
    "    return wrapper\n",
    "\n",
    "\n",
    "@check_types\n",
    "def add(a: int, b: int) -> int:\n",
    "    return a + b\n",
    "\n",
    "\n",
    "add(1, 10)"
   ]
  }
 ],
 "metadata": {
  "kernelspec": {
   "display_name": "Python 3",
   "language": "python",
   "name": "python3"
  },
  "language_info": {
   "codemirror_mode": {
    "name": "ipython",
    "version": 3
   },
   "file_extension": ".py",
   "mimetype": "text/x-python",
   "name": "python",
   "nbconvert_exporter": "python",
   "pygments_lexer": "ipython3",
   "version": "3.10.11"
  },
  "orig_nbformat": 4
 },
 "nbformat": 4,
 "nbformat_minor": 2
}
